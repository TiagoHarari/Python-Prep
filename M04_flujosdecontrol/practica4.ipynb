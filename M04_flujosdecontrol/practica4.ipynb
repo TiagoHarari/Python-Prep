{
 "cells": [
  {
   "cell_type": "code",
   "execution_count": 21,
   "metadata": {},
   "outputs": [
    {
     "name": "stdout",
     "output_type": "stream",
     "text": [
      "mayor a 3\n"
     ]
    }
   ],
   "source": [
    "num = 5\n",
    "if num < 3:\n",
    "    print(\"menor a 3\")\n",
    "elif num > 3:\n",
    "    print(\"mayor a 3\")  #se cumple esta condicion.\n",
    "else:\n",
    "    print(\"igual a 3\")"
   ]
  },
  {
   "cell_type": "code",
   "execution_count": 20,
   "metadata": {},
   "outputs": [
    {
     "name": "stdout",
     "output_type": "stream",
     "text": [
      "Soy menor que diez y como estoy primero me voy a ejecutar\n"
     ]
    }
   ],
   "source": [
    "num = 5\n",
    "if num>10:\n",
    "    print(\"Soy mayor\")\n",
    "elif num<10:\n",
    "    print(\"Soy menor que diez y como estoy primero me voy a ejecutar\")\n",
    "elif num<7:\n",
    "    print(\"Soy también menor\")\n",
    "else:\n",
    "    print(\"Soy igual\")\n",
    "    \n",
    "#python devuelve la primer condicion que sea verdadera"
   ]
  },
  {
   "cell_type": "code",
   "execution_count": null,
   "metadata": {},
   "outputs": [],
   "source": [
    "#for and while"
   ]
  },
  {
   "cell_type": "code",
   "execution_count": 23,
   "metadata": {},
   "outputs": [
    {
     "name": "stdout",
     "output_type": "stream",
     "text": [
      "2\n",
      "3\n",
      "4\n",
      "5\n",
      "6\n"
     ]
    }
   ],
   "source": [
    "numeros = [1,2,3,4,5]\n",
    "for num in numeros:\n",
    "    suma= num+1\n",
    "    print(suma)"
   ]
  },
  {
   "cell_type": "code",
   "execution_count": 7,
   "metadata": {},
   "outputs": [],
   "source": [
    "while num < 6:\n",
    "    print(\"num \", num)\n",
    "    num =num +1"
   ]
  },
  {
   "cell_type": "code",
   "execution_count": 11,
   "metadata": {},
   "outputs": [],
   "source": [
    "\n",
    "while num < 5:\n",
    "    print(\"numero\", numero)\n",
    "    numero = num +1"
   ]
  },
  {
   "cell_type": "code",
   "execution_count": 4,
   "metadata": {},
   "outputs": [
    {
     "name": "stdout",
     "output_type": "stream",
     "text": [
      "2\n",
      "4\n",
      "6\n",
      "8\n",
      "10\n",
      "12\n",
      "14\n",
      "16\n",
      "18\n"
     ]
    }
   ],
   "source": [
    "\n",
    "for i in range(1,10): \n",
    "    multiplica = i *2\n",
    "    print(multiplica)\n"
   ]
  },
  {
   "cell_type": "code",
   "execution_count": 12,
   "metadata": {},
   "outputs": [
    {
     "ename": "NameError",
     "evalue": "name 'new_planet' is not defined",
     "output_type": "error",
     "traceback": [
      "\u001b[1;31m---------------------------------------------------------------------------\u001b[0m",
      "\u001b[1;31mNameError\u001b[0m                                 Traceback (most recent call last)",
      "Cell \u001b[1;32mIn[12], line 4\u001b[0m\n\u001b[0;32m      1\u001b[0m new_planets \u001b[38;5;241m=\u001b[39m \u001b[38;5;124m\"\u001b[39m\u001b[38;5;124m\"\u001b[39m\n\u001b[0;32m      2\u001b[0m planets \u001b[38;5;241m=\u001b[39m []\n\u001b[1;32m----> 4\u001b[0m \u001b[38;5;28;01mwhile\u001b[39;00m \u001b[43mnew_planet\u001b[49m\u001b[38;5;241m.\u001b[39mlower() \u001b[38;5;241m!=\u001b[39m \u001b[38;5;124m'\u001b[39m\u001b[38;5;124mdone\u001b[39m\u001b[38;5;124m'\u001b[39m:\n\u001b[0;32m      5\u001b[0m     \u001b[38;5;28;01mif\u001b[39;00m new_planet:\n\u001b[0;32m      6\u001b[0m         planets\u001b[38;5;241m.\u001b[39mappend(new_planet)\n",
      "\u001b[1;31mNameError\u001b[0m: name 'new_planet' is not defined"
     ]
    }
   ],
   "source": [
    "new_planets = \"\"\n",
    "planets = []\n",
    "\n",
    "while new_planet.lower() != 'done':\n",
    "    if new_planet:\n",
    "        planets.append(new_planet)\n",
    "    new_planet = input('Enter a new planet, or done if done')\n",
    "\n",
    "print(planets)"
   ]
  },
  {
   "cell_type": "code",
   "execution_count": 15,
   "metadata": {},
   "outputs": [
    {
     "name": "stdout",
     "output_type": "stream",
     "text": [
      "P\n",
      "y\n",
      "t\n",
      "se encontro la h\n"
     ]
    }
   ],
   "source": [
    "cadena = \"Python\"\n",
    "for letra in cadena:\n",
    "    if letra == \"h\":\n",
    "        print(\"se encontro la h\")\n",
    "        break\n",
    "    print(letra)\n",
    "   "
   ]
  },
  {
   "cell_type": "code",
   "execution_count": 20,
   "metadata": {},
   "outputs": [
    {
     "name": "stdout",
     "output_type": "stream",
     "text": [
      "4\n",
      "3\n",
      "2\n",
      "1\n",
      "0\n",
      "listo\n"
     ]
    }
   ],
   "source": [
    "x=5\n",
    "while True:\n",
    "    x -=1\n",
    "    print(x)\n",
    "    if x ==0:\n",
    "        break \n",
    "print(\"listo\")"
   ]
  },
  {
   "cell_type": "code",
   "execution_count": 27,
   "metadata": {},
   "outputs": [
    {
     "name": "stdout",
     "output_type": "stream",
     "text": [
      "P\n",
      "se encontro la y\n",
      "t\n",
      "h\n",
      "o\n",
      "n\n"
     ]
    }
   ],
   "source": [
    "cadena= \"Python\"\n",
    "for letra in cadena:\n",
    "  if  letra == \"y\":\n",
    "      print(\"se encontro la y\")\n",
    "      continue\n",
    "  print(letra)"
   ]
  },
  {
   "cell_type": "code",
   "execution_count": 36,
   "metadata": {},
   "outputs": [
    {
     "name": "stdout",
     "output_type": "stream",
     "text": [
      "j\n",
      "u\n",
      "g\n",
      "u\n",
      "se encontro\n",
      "t\n",
      "se encontro\n",
      "s\n"
     ]
    }
   ],
   "source": [
    "caja = \"juguetes\"\n",
    "for letra in caja:\n",
    "    if letra == \"e\":\n",
    "        print(\"se encontro\")\n",
    "        continue\n",
    "    print(letra)\n",
    "     \n",
    "    "
   ]
  },
  {
   "cell_type": "code",
   "execution_count": 37,
   "metadata": {},
   "outputs": [
    {
     "name": "stdout",
     "output_type": "stream",
     "text": [
      "0\n",
      "1\n",
      "2\n",
      "3\n",
      "4\n",
      "5\n",
      "6\n",
      "7\n",
      "8\n",
      "9\n"
     ]
    }
   ],
   "source": [
    "for num in range(10):\n",
    "    print(num)\n",
    "    "
   ]
  },
  {
   "cell_type": "code",
   "execution_count": 39,
   "metadata": {},
   "outputs": [
    {
     "name": "stdout",
     "output_type": "stream",
     "text": [
      "My name is John, I'm 36\n"
     ]
    }
   ],
   "source": [
    "txt1 = \"My name is {fname}, I'm {age}\".format(fname = \"John\", age = 36)\n",
    "print(txt1)"
   ]
  },
  {
   "cell_type": "markdown",
   "metadata": {},
   "source": [
    "print('alfa unity ' * 2)"
   ]
  }
 ],
 "metadata": {
  "kernelspec": {
   "display_name": "Python 3",
   "language": "python",
   "name": "python3"
  },
  "language_info": {
   "codemirror_mode": {
    "name": "ipython",
    "version": 3
   },
   "file_extension": ".py",
   "mimetype": "text/x-python",
   "name": "python",
   "nbconvert_exporter": "python",
   "pygments_lexer": "ipython3",
   "version": "3.12.1"
  }
 },
 "nbformat": 4,
 "nbformat_minor": 2
}
